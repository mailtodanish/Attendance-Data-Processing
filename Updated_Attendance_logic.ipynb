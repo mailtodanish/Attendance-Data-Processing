{
 "cells": [
  {
   "cell_type": "code",
   "execution_count": 128,
   "metadata": {},
   "outputs": [
    {
     "name": "stdout",
     "output_type": "stream",
     "text": [
      "                  Name    OnlyDate    DateTime_checkin   DateTime_checkout  \\\n",
      "0  Muhammad Awais Khan  2018-11-20 2018-11-20 01:00:19 2018-11-20 05:00:19   \n",
      "1  Muhammad Awais Khan  2018-11-21 2018-11-21 01:00:19 2018-11-22 01:00:19   \n",
      "2  Muhammad Awais Khan  2018-11-22                 NaT 2018-11-22 01:00:19   \n",
      "3  Muhammad Awais Khan  2018-11-23 2018-11-23 01:00:19                 NaT   \n",
      "\n",
      "        TotalTime TimeOut  \n",
      "0 0 days 04:00:00       N  \n",
      "1 1 days 00:00:00       Y  \n",
      "2             NaT       N  \n",
      "3             NaT       N  \n"
     ]
    }
   ],
   "source": [
    "import pandas as pd \n",
    "import numpy as np\n",
    "\n",
    "def str_to_dt(radardetails):\n",
    "    return  radardetails.strip('\\\"')\n",
    "\n",
    "def main():\n",
    "    readExcelFile()\n",
    "    pass\n",
    "\n",
    "def readExcelFile():  \n",
    "    ExcelPath = \"Attendance.xlsx\"\n",
    "    # reading csv file  \n",
    "    df =pd.read_excel(ExcelPath,sheet_name='Sheet1')  \n",
    "    # segregate columns :One COlumn data to three column   \n",
    "    df[['Name', 'DateTime', 'Punch']] = df['name;\"pyzk_datetime\";\"pyzk_punch\"'].str.split(';', expand=True) \n",
    "    # Delete the \"Area\" column from the dataframe\n",
    "    df = df.drop('name;\"pyzk_datetime\";\"pyzk_punch\"', axis=1)\n",
    "    # change data type\n",
    "    df['DateTime'] = df['DateTime'].apply(str_to_dt) \n",
    "    #Shorting Accordingly\n",
    "    df.sort_values(by=['Name', 'DateTime'],ascending=True,inplace=True)\n",
    "    #newColumn Added in DataFrame\n",
    "    df['OnlyDate']=pd.DatetimeIndex(df['DateTime']).date    \n",
    "    dropduplicate(df)\n",
    "    pass\n",
    "\n",
    "def dropduplicate(df):\n",
    "#     one Checkout and one chekin record for each date\n",
    "    checkout_df = df[df['Punch']=='1'].drop_duplicates(subset=['Name','OnlyDate'], keep='last')\n",
    "    checkin_df = df[df['Punch']=='0'].drop_duplicates(subset=['Name','OnlyDate'], keep='first')\n",
    "    df = checkin_df.append(checkout_df, ignore_index=True)\n",
    "    df.sort_values(by=['Name', 'DateTime','Punch'],ascending=True,inplace=True)\n",
    "    df =checkin_df.merge(checkout_df, on=['Name','OnlyDate'],how='outer',suffixes=['_checkin', '_checkout'])[['Name','OnlyDate','DateTime_checkin','DateTime_checkout']]\n",
    "    df[\"DateTime_checkout\"]= pd.to_datetime(df[\"DateTime_checkout\"]) \n",
    "    df[\"DateTime_checkin\"]= pd.to_datetime(df[\"DateTime_checkin\"])\n",
    "    PreProcess(df)\n",
    "    pass\n",
    "\n",
    "def PreProcess(df):\n",
    "    final = df.sort_values(by=['Name', 'OnlyDate'],ascending=True).reset_index(drop=True)\n",
    "    for i in range(0, len(final)):\n",
    "        if final.isnull().loc[i, 'DateTime_checkout']:           \n",
    "            if i < len(final)-1:\n",
    "                final.loc[i, 'DateTime_checkout'] = final.loc[i+1, 'DateTime_checkout']\n",
    "        pass\n",
    "    final['TotalTime']=final['DateTime_checkout'].values-final['DateTime_checkin'].values\n",
    "    dropMoreThen15Hours(final)\n",
    "    pass\n",
    "def dropMoreThen15Hours(final):\n",
    "    final['TimeOut'] = final.apply(lambda x: 'Y'  if x['TotalTime'].total_seconds()/(3600.0) > 15  else  'N' , axis=1)\n",
    "    print(final.head(100))     \n",
    "    pass\n",
    "    \n",
    "\n",
    "if __name__ == \"__main__\": \n",
    "    main()"
   ]
  },
  {
   "cell_type": "code",
   "execution_count": null,
   "metadata": {},
   "outputs": [],
   "source": []
  }
 ],
 "metadata": {
  "kernelspec": {
   "display_name": "Python 3",
   "language": "python",
   "name": "python3"
  },
  "language_info": {
   "codemirror_mode": {
    "name": "ipython",
    "version": 3
   },
   "file_extension": ".py",
   "mimetype": "text/x-python",
   "name": "python",
   "nbconvert_exporter": "python",
   "pygments_lexer": "ipython3",
   "version": "3.7.1"
  }
 },
 "nbformat": 4,
 "nbformat_minor": 2
}
